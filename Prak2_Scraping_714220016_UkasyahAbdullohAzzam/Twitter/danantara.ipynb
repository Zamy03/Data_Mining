{
 "cells": [
  {
   "cell_type": "code",
   "execution_count": 1,
   "metadata": {},
   "outputs": [],
   "source": [
    "import tweepy\n",
    "import requests\n",
    "import pandas as pd\n",
    "import numpy as np"
   ]
  },
  {
   "cell_type": "code",
   "execution_count": 2,
   "metadata": {},
   "outputs": [],
   "source": [
    "#API keys\n",
    "consumer_key = 'm6HXBiAClALEnvKURMuZ2Y9pe'\n",
    "consumer_secret = 'mVRW7QTCNwpaF9yOSHpQFnwFMfdCjxu7pcyH6sOXYJyKtTbjAD'\n",
    "access_token = '1872355234359750656-ylFEB3KpkDnrDvzXOy30LUsi49y3ur'\n",
    "access_token_secret = 'lXq91B3pyv7i5RFVOP2OejbKrXPaINeW0S8ssQD1wh1cA'\n",
    "bearer_token = 'AAAAAAAAAAAAAAAAAAAAADmt0AEAAAAATIfvQdc2Qzzc5ed628ORvGjyIxs%3DyxgkfWC8NIpjKJZWKPFlHbkA4GTTPcb0jn66hu9VY91g1GR0Yd'"
   ]
  },
  {
   "cell_type": "code",
   "execution_count": 3,
   "metadata": {},
   "outputs": [],
   "source": [
    "client = tweepy.Client(bearer_token)"
   ]
  },
  {
   "cell_type": "code",
   "execution_count": 4,
   "metadata": {},
   "outputs": [],
   "source": [
    "query = \"Danantara lang:id -is:retweet\"\n",
    "\n",
    "tweets = client.search_recent_tweets(\n",
    "    query=query, \n",
    "    max_results=10, \n",
    "    tweet_fields=[\"created_at\", \"public_metrics\"],  \n",
    "    user_fields=[\"username\", \"location\"],\n",
    "    expansions=[\"author_id\"]\n",
    ")"
   ]
  },
  {
   "cell_type": "code",
   "execution_count": 5,
   "metadata": {},
   "outputs": [
    {
     "data": {
      "text/plain": [
       "Response(data=[<Tweet id=1904558166026895590 text='@Mata_Netizen62 @2TRafiS1 @abdimuda_id @alamtegarrrr @Anak__Ogi @AntoniusCDN @muchlis_ar @King_PWS_ @kenhans03 @JhonSitorus_18 @HumorJonTampan KEPERCAYAAN TIDAK BISA DINEGOSIASI....Terlalu naif.. harusnya orng2 yg menduduki posisi strategis adalah orng2 yg profesional dlm bidangnya...tau apa mrk ttg IHSG? Bukan negosiasi solusinya, bagaimana membangun bisnis tumbuh di Indonesia. DANANTARA dikelola orng2 profesional..'>, <Tweet id=1904557782352924945 text='Baguslah Danantara supaya cepat go internasional karena para penasihatnya dari mancanegara'>, <Tweet id=1904557727856435547 text='Selasa malam MIN AKU MAU DIGEDOR nobar bismillah 3 trent jepang danantara nastar ready kak kev pelupessy aqeela open https://t.co/Tp9BCxI6Yj'>, <Tweet id=1904557680515313725 text='@profesor_saham Danantara'>, <Tweet id=1904557403313734044 text='@KompasTV Sdh sangat berpngalaman dalam hal korupsi dan penyalahgunaan wewenang, mmg sangat pas menjadi penasehat danantara yg kmngkinan besar jd bancakan pejabat..'>, <Tweet id=1904557194424774938 text='Sri Mulyani Buka Opsi Danantara Bisa Kerja Sama dengan NDB https://t.co/0Jq5c8qJIl'>, <Tweet id=1904557158387286316 text=\"hari ke-156 dipimpin sama prabowo dan fufufafa.\\n\\n*danantara di isi orang-orang yang 'kabur' wkwkwk\">, <Tweet id=1904557095422165191 text='@democrazymedia masuk ke Danantara si Taksin nk pake SKCK gk?'>, <Tweet id=1904556877356441779 text='Empat Warga Asing Jadi Dewan Penasihat Danantara, Ini Profilnya https://t.co/QxbMcqrT8Z'>, <Tweet id=1904556569297342552 text='@txtfromIR \"Asing ngapain lagi sih?\"\\n\\nJadi Dewan Penasihat Danantara https://t.co/FNmdy28fUS'>], includes={'users': [<User id=3167290969 name=MENTHARY username=Mentaridiufuk1>, <User id=1829401555327688704 name=Teungku Nurdin username=NurdinTeun43682>, <User id=1896248923980992512 name=Nina. username=nin275141>, <User id=1314068443788763136 name=happyfsy username=maotypew>, <User id=985703210 name=Abu Muhammad alFatih username=AlFatih68>, <User id=1672972276210470917 name=Yakob Kambu username=kambu_yako5671>, <User id=298952040 name=Riki Arya S username=rikiarya757>, <User id=1290261485009006595 name=🇮🇩 UWO DARI KINCAI 🇮🇩 username=Jika_Aku_2>, <User id=2754115052 name=+Truno Pambudi username=bvscoro>]}, errors=[], meta={'newest_id': '1904558166026895590', 'oldest_id': '1904556569297342552', 'result_count': 10, 'next_token': 'b26v89c19zqg8o3fsbw88pecrvjdx708kslh63um6ypa5'})"
      ]
     },
     "execution_count": 5,
     "metadata": {},
     "output_type": "execute_result"
    }
   ],
   "source": [
    "tweets"
   ]
  },
  {
   "cell_type": "code",
   "execution_count": 6,
   "metadata": {},
   "outputs": [],
   "source": [
    "data = pd.DataFrame()\n",
    "\n",
    "users = {user[\"id\"]: user for user in tweets.includes[\"users\"]}\n",
    "\n",
    "data[\"created_at\"] = [tweet.created_at for tweet in tweets.data]\n",
    "data[\"screen_name\"] = [users[tweet.author_id][\"username\"] for tweet in tweets.data]\n",
    "data[\"tweet\"] = [tweet.text for tweet in tweets.data]\n",
    "data[\"location\"] = [users[tweet.author_id].get(\"location\", \"Tidak diketahui\") for tweet in tweets.data]\n",
    "data[\"retweet_count\"] = [tweet.public_metrics[\"retweet_count\"] for tweet in tweets.data]\n",
    "data[\"like_count\"] = [tweet.public_metrics[\"like_count\"] for tweet in tweets.data]\n"
   ]
  },
  {
   "cell_type": "code",
   "execution_count": 7,
   "metadata": {},
   "outputs": [
    {
     "data": {
      "text/html": [
       "<div>\n",
       "<style scoped>\n",
       "    .dataframe tbody tr th:only-of-type {\n",
       "        vertical-align: middle;\n",
       "    }\n",
       "\n",
       "    .dataframe tbody tr th {\n",
       "        vertical-align: top;\n",
       "    }\n",
       "\n",
       "    .dataframe thead th {\n",
       "        text-align: right;\n",
       "    }\n",
       "</style>\n",
       "<table border=\"1\" class=\"dataframe\">\n",
       "  <thead>\n",
       "    <tr style=\"text-align: right;\">\n",
       "      <th></th>\n",
       "      <th>created_at</th>\n",
       "      <th>screen_name</th>\n",
       "      <th>tweet</th>\n",
       "      <th>location</th>\n",
       "      <th>retweet_count</th>\n",
       "      <th>like_count</th>\n",
       "    </tr>\n",
       "  </thead>\n",
       "  <tbody>\n",
       "    <tr>\n",
       "      <th>0</th>\n",
       "      <td>2025-03-25 15:37:06+00:00</td>\n",
       "      <td>Mentaridiufuk1</td>\n",
       "      <td>@Mata_Netizen62 @2TRafiS1 @abdimuda_id @alamte...</td>\n",
       "      <td>_</td>\n",
       "      <td>0</td>\n",
       "      <td>0</td>\n",
       "    </tr>\n",
       "    <tr>\n",
       "      <th>1</th>\n",
       "      <td>2025-03-25 15:35:34+00:00</td>\n",
       "      <td>NurdinTeun43682</td>\n",
       "      <td>Baguslah Danantara supaya cepat go internasion...</td>\n",
       "      <td>Kota Bandung, Jawa Barat</td>\n",
       "      <td>0</td>\n",
       "      <td>0</td>\n",
       "    </tr>\n",
       "    <tr>\n",
       "      <th>2</th>\n",
       "      <td>2025-03-25 15:35:21+00:00</td>\n",
       "      <td>nin275141</td>\n",
       "      <td>Selasa malam MIN AKU MAU DIGEDOR nobar bismill...</td>\n",
       "      <td>None</td>\n",
       "      <td>0</td>\n",
       "      <td>2</td>\n",
       "    </tr>\n",
       "    <tr>\n",
       "      <th>3</th>\n",
       "      <td>2025-03-25 15:35:10+00:00</td>\n",
       "      <td>maotypew</td>\n",
       "      <td>@profesor_saham Danantara</td>\n",
       "      <td>None</td>\n",
       "      <td>0</td>\n",
       "      <td>0</td>\n",
       "    </tr>\n",
       "    <tr>\n",
       "      <th>4</th>\n",
       "      <td>2025-03-25 15:34:04+00:00</td>\n",
       "      <td>AlFatih68</td>\n",
       "      <td>@KompasTV Sdh sangat berpngalaman dalam hal ko...</td>\n",
       "      <td>Jakarta</td>\n",
       "      <td>0</td>\n",
       "      <td>0</td>\n",
       "    </tr>\n",
       "  </tbody>\n",
       "</table>\n",
       "</div>"
      ],
      "text/plain": [
       "                 created_at      screen_name  \\\n",
       "0 2025-03-25 15:37:06+00:00   Mentaridiufuk1   \n",
       "1 2025-03-25 15:35:34+00:00  NurdinTeun43682   \n",
       "2 2025-03-25 15:35:21+00:00        nin275141   \n",
       "3 2025-03-25 15:35:10+00:00         maotypew   \n",
       "4 2025-03-25 15:34:04+00:00        AlFatih68   \n",
       "\n",
       "                                               tweet  \\\n",
       "0  @Mata_Netizen62 @2TRafiS1 @abdimuda_id @alamte...   \n",
       "1  Baguslah Danantara supaya cepat go internasion...   \n",
       "2  Selasa malam MIN AKU MAU DIGEDOR nobar bismill...   \n",
       "3                          @profesor_saham Danantara   \n",
       "4  @KompasTV Sdh sangat berpngalaman dalam hal ko...   \n",
       "\n",
       "                   location  retweet_count  like_count  \n",
       "0                         _              0           0  \n",
       "1  Kota Bandung, Jawa Barat              0           0  \n",
       "2                      None              0           2  \n",
       "3                      None              0           0  \n",
       "4                   Jakarta              0           0  "
      ]
     },
     "metadata": {},
     "output_type": "display_data"
    }
   ],
   "source": [
    "display(data.head(5))"
   ]
  },
  {
   "cell_type": "code",
   "execution_count": null,
   "metadata": {},
   "outputs": [],
   "source": []
  }
 ],
 "metadata": {
  "kernelspec": {
   "display_name": "Python 3",
   "language": "python",
   "name": "python3"
  },
  "language_info": {
   "codemirror_mode": {
    "name": "ipython",
    "version": 3
   },
   "file_extension": ".py",
   "mimetype": "text/x-python",
   "name": "python",
   "nbconvert_exporter": "python",
   "pygments_lexer": "ipython3",
   "version": "3.11.9"
  }
 },
 "nbformat": 4,
 "nbformat_minor": 2
}
