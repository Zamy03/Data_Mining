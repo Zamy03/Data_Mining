{
 "cells": [
  {
   "cell_type": "code",
   "execution_count": 1,
   "metadata": {
    "id": "ONLiRqGSZq3-",
    "outputId": "73db66dc-2d8b-4b6e-96c0-371c261f79ef"
   },
   "outputs": [
    {
     "data": {
      "text/plain": [
       "'Command yang diawali dengan % atau %% adalah magic command'"
      ]
     },
     "execution_count": 1,
     "metadata": {},
     "output_type": "execute_result"
    }
   ],
   "source": [
    "import numpy as np\n",
    "import matplotlib.pyplot as plt\n",
    "import pandas as pd\n",
    "import seaborn as sns\n",
    "\"Command yang diawali dengan % atau %% adalah magic command\""
   ]
  },
  {
   "cell_type": "markdown",
   "metadata": {
    "id": "8OcZipNcZq4B"
   },
   "source": [
    "Di sini inline dimaksudkan supaya plot yang ditampilkan inline (bersamaan) dengan code di Jupyter notebook\n",
    "Kalau tidak pakai inline, plot akan muncul di window terpisah (%matplotlib qt5)\n",
    "#%matplotlib inline"
   ]
  },
  {
   "cell_type": "markdown",
   "metadata": {
    "id": "19FS7ApgZq4C"
   },
   "source": [
    "1. import dataset\n",
    "simpan dataset dalam variable data_NPM\n"
   ]
  },
  {
   "cell_type": "code",
   "execution_count": 2,
   "metadata": {},
   "outputs": [],
   "source": [
    "data_714220016 = pd.read_csv('president_heights.csv')"
   ]
  },
  {
   "cell_type": "markdown",
   "metadata": {
    "id": "1BV6FZrFZq4D"
   },
   "source": [
    "2. menampilkan data teratas\n",
    "- menjadikan kumpulan data array pada kolom tinggi badan\n",
    "- dan simpan dengan variable height_NPM\n"
   ]
  },
  {
   "cell_type": "code",
   "execution_count": 3,
   "metadata": {},
   "outputs": [
    {
     "name": "stdout",
     "output_type": "stream",
     "text": [
      "   order               name  height(cm)\n",
      "0      1  George Washington         189\n",
      "1      2         John Adams         170\n",
      "2      3   Thomas Jefferson         189\n",
      "3      4      James Madison         163\n",
      "4      5       James Monroe         183\n"
     ]
    }
   ],
   "source": [
    "print(data_714220016.head())\n",
    "height_714220016 = np.array(data_714220016['height(cm)'])"
   ]
  },
  {
   "cell_type": "markdown",
   "metadata": {
    "id": "K_hpw-u0Zq4D"
   },
   "source": [
    "3. tampilkan height_NPM\n",
    "\n"
   ]
  },
  {
   "cell_type": "code",
   "execution_count": 4,
   "metadata": {},
   "outputs": [
    {
     "name": "stdout",
     "output_type": "stream",
     "text": [
      "[189 170 189 163 183 171 185 168 173 183 173 173 175 178 183 193 178 173\n",
      " 174 183 183 168 170 178 182 180 183 178 182 188 175 179 183 193 182 183\n",
      " 177 185 188 188 182 185]\n"
     ]
    }
   ],
   "source": [
    "print(height_714220016)"
   ]
  },
  {
   "cell_type": "markdown",
   "metadata": {
    "id": "EoeAQoaHZq4E"
   },
   "source": [
    "4. plot data\n",
    "\"Visualisasi data dalam bentuk barchart semua tinggi badan\""
   ]
  },
  {
   "cell_type": "code",
   "execution_count": 5,
   "metadata": {
    "id": "FfpqAqSvZq4E",
    "outputId": "98dc8367-f796-4eef-f745-dd8e33ba3fd3"
   },
   "outputs": [
    {
     "data": {
      "image/png": "[encoded data removed]",
      "text/plain": [
       "<Figure size 640x480 with 1 Axes>"
      ]
     },
     "metadata": {},
     "output_type": "display_data"
    }
   ],
   "source": [
    "sns.set()\n",
    "\n",
    "plt.hist(height_714220016, bins=20, color='blue', alpha=0.7)\n",
    "plt.title('Histogram of President Heights')\n",
    "plt.xlabel('Height (cm)')\n",
    "plt.ylabel('Frequency')\n",
    "\n",
    "plt.show()"
   ]
  },
  {
   "cell_type": "markdown",
   "metadata": {
    "id": "uNXYrCKGZq4F"
   },
   "source": [
    "5. Menghitung statistics menggunakan NumPy aggregate functions\n",
    "(Panggil data tinggi yang sudah dimasukan kedalam array)"
   ]
  },
  {
   "cell_type": "code",
   "execution_count": 6,
   "metadata": {
    "id": "sKHA3cmxZq4F"
   },
   "outputs": [
    {
     "name": "stdout",
     "output_type": "stream",
     "text": [
      "Median: 182.0\n",
      "Variance: 48.05045351473922\n",
      "Sum: 7549\n"
     ]
    }
   ],
   "source": [
    "mean_height_714220016 = np.mean(height_714220016) #rata2\n",
    "median_height_714220016 = np.median(height_714220016) #median/nilai tengah\n",
    "std_height_714220016 = np.std(height_714220016) #standar deviasi\n",
    "var_height_714220016 = np.var(height_714220016) #varians\n",
    "max_height_714220016 = np.max(height_714220016) #nilai maksimum\n",
    "min_height_714220016 = np.min(height_714220016) #nilai minimum\n",
    "sum_height_714220016 = np.sum(height_714220016) #jumlah\n",
    "\n",
    "print(f\"Median: {median_height_714220016}\")\n",
    "print(f\"Variance: {var_height_714220016}\")\n",
    "print(f\"Sum: {sum_height_714220016}\")"
   ]
  },
  {
   "cell_type": "markdown",
   "metadata": {
    "id": "PS4hlrqzZq4F"
   },
   "source": [
    "6. Tampilkan Rata-rata"
   ]
  },
  {
   "cell_type": "code",
   "execution_count": 7,
   "metadata": {
    "id": "v9Flii-uZq4G"
   },
   "outputs": [
    {
     "name": "stdout",
     "output_type": "stream",
     "text": [
      "Mean: 179.73809523809524\n"
     ]
    }
   ],
   "source": [
    "print(f\"Mean: {mean_height_714220016}\")"
   ]
  },
  {
   "cell_type": "markdown",
   "metadata": {
    "id": "44-_31BKZq4G"
   },
   "source": [
    "7. Tampilkan standar deviasi"
   ]
  },
  {
   "cell_type": "code",
   "execution_count": 8,
   "metadata": {
    "id": "Z3MReM4AZq4G"
   },
   "outputs": [
    {
     "name": "stdout",
     "output_type": "stream",
     "text": [
      "Standard Deviation: 6.931843442745892\n"
     ]
    }
   ],
   "source": [
    "print(f\"Standard Deviation: {std_height_714220016}\")"
   ]
  },
  {
   "cell_type": "markdown",
   "metadata": {
    "id": "GZZ18tN2Zq4G"
   },
   "source": [
    "\n",
    "8. Tampilkan tinggi badan terendah ada pada urutan berapa"
   ]
  },
  {
   "cell_type": "code",
   "execution_count": 9,
   "metadata": {
    "id": "Ue5C7kLeZq4G"
   },
   "outputs": [
    {
     "name": "stdout",
     "output_type": "stream",
     "text": [
      "Min: 163\n",
      "Index of Min: 3\n"
     ]
    }
   ],
   "source": [
    "index_min_height_714220016 = np.argmin(height_714220016) #index nilai minimum\n",
    "print(f\"Min: {min_height_714220016}\")\n",
    "print(f\"Index of Min: {index_min_height_714220016}\")\n"
   ]
  },
  {
   "cell_type": "markdown",
   "metadata": {
    "id": "AAbRhG_dZq4H"
   },
   "source": [
    "9. Tampilkan tinggi badan tertinggi ada pada urutan berapa"
   ]
  },
  {
   "cell_type": "code",
   "execution_count": 10,
   "metadata": {
    "id": "phGEvFr2Zq4H"
   },
   "outputs": [
    {
     "name": "stdout",
     "output_type": "stream",
     "text": [
      "Max: 193\n",
      "Index of Max: 15\n"
     ]
    }
   ],
   "source": [
    "index_max_height_714220016 = np.argmax(height_714220016) #index nilai maksimum\n",
    "print(f\"Max: {max_height_714220016}\")\n",
    "print(f\"Index of Max: {index_max_height_714220016}\")"
   ]
  },
  {
   "cell_type": "markdown",
   "metadata": {
    "id": "UYt7LXxxZq4H"
   },
   "source": [
    "10. Cari kuartil pertama"
   ]
  },
  {
   "cell_type": "code",
   "execution_count": 11,
   "metadata": {
    "id": "Sj3nmFDdZq4H"
   },
   "outputs": [
    {
     "name": "stdout",
     "output_type": "stream",
     "text": [
      "Q1: 174.25\n"
     ]
    }
   ],
   "source": [
    "q1_714220016 = np.percentile(height_714220016, 25) #kuartil 1\n",
    "print(f\"Q1: {q1_714220016}\")"
   ]
  },
  {
   "cell_type": "markdown",
   "metadata": {
    "id": "kpRXNrm7Zq4H"
   },
   "source": [
    "11. Cari kuartil kedua"
   ]
  },
  {
   "cell_type": "code",
   "execution_count": 12,
   "metadata": {
    "id": "cxB2AB5PZq4H"
   },
   "outputs": [
    {
     "name": "stdout",
     "output_type": "stream",
     "text": [
      "Q2: 182.0\n"
     ]
    }
   ],
   "source": [
    "q2_714220016 = np.percentile(height_714220016, 50) #kuartil 2\n",
    "print(f\"Q2: {q2_714220016}\")"
   ]
  },
  {
   "cell_type": "markdown",
   "metadata": {
    "id": "QjkZ5b9-Zq4H"
   },
   "source": [
    "12. Cari kuartil ketiga"
   ]
  },
  {
   "cell_type": "code",
   "execution_count": 13,
   "metadata": {
    "id": "z2TPUfIGZq4H"
   },
   "outputs": [
    {
     "name": "stdout",
     "output_type": "stream",
     "text": [
      "Q3: 183.0\n"
     ]
    }
   ],
   "source": [
    "q3_714220016 = np.percentile(height_714220016, 75) #kuartil 3\n",
    "print(f\"Q3: {q3_714220016}\")"
   ]
  }
 ],
 "metadata": {
  "colab": {
   "provenance": []
  },
  "kernelspec": {
   "display_name": "Python 3",
   "language": "python",
   "name": "python3"
  },
  "language_info": {
   "codemirror_mode": {
    "name": "ipython",
    "version": 3
   },
   "file_extension": ".py",
   "mimetype": "text/x-python",
   "name": "python",
   "nbconvert_exporter": "python",
   "pygments_lexer": "ipython3",
   "version": "3.11.9"
  }
 },
 "nbformat": 4,
 "nbformat_minor": 0
}
